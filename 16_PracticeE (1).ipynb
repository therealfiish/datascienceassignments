{
 "cells": [
  {
   "cell_type": "markdown",
   "metadata": {},
   "source": "Krrish Kishore Kumar"
  },
  {
   "cell_type": "markdown",
   "metadata": {
    "tags": []
   },
   "source": [
    "## 16E Population Gowth in India\n",
    "\n",
    "Along with 16E, you need to download the following files from Schoology. Make sure these files are all located in the same folder as 16E on your computer.\n",
    "'china_population.csv'\n",
    "'india_population.csv'\n",
    "'skorea_population.csv'\n",
    "'usa_population.csv'\n",
    "\n",
    "### Viewing the data\n",
    "Open the `india_population.csv` file. Describe the contents. How is the data laid out? How many columns and rows are included? What do the various columns represent? What data types are included such as strings, integers, floats?\n"
   ]
  },
  {
   "cell_type": "markdown",
   "metadata": {},
   "source": "The data in the file is laid out in two columns. The first column represents the years from 1950 to 2020. The second column represents the population of India in millions. There are 71 rows and 2 columns. The first column is an integer and the second column is a float."
  },
  {
   "cell_type": "markdown",
   "metadata": {},
   "source": [
    "### How to view the data\n",
    "\n",
    "NumPy is very useful in its ability to read in data from files. The standard method for doing this in NumPy is `loadtxt`. Once the data is loaded, then we will need to determine if it is a the right format for our purposes."
   ]
  },
  {
   "metadata": {
    "ExecuteTime": {
     "end_time": "2024-11-06T04:44:00.338523Z",
     "start_time": "2024-11-06T04:44:00.327081Z"
    }
   },
   "cell_type": "code",
   "source": [
    "# import numpy and china etc. populations\n",
    "import numpy as np\n",
    "india_pop = np.loadtxt(\"india_population.csv\", usecols = (0,1), skiprows = 1, delimiter = ',') # Once you have working code, describe below what each part of the code represents.\n",
    "india_pop"
   ],
   "outputs": [
    {
     "data": {
      "text/plain": [
       "array([[1.95000000e+03, 3.46278817e+08],\n",
       "       [1.95100000e+03, 3.53870058e+08],\n",
       "       [1.95200000e+03, 3.61874904e+08],\n",
       "       [1.95300000e+03, 3.70104571e+08],\n",
       "       [1.95400000e+03, 3.78687141e+08],\n",
       "       [1.95500000e+03, 3.87700891e+08],\n",
       "       [1.95600000e+03, 3.96988906e+08],\n",
       "       [1.95700000e+03, 4.06253895e+08],\n",
       "       [1.95800000e+03, 4.15777437e+08],\n",
       "       [1.95900000e+03, 4.25780669e+08],\n",
       "       [1.96000000e+03, 4.35990344e+08],\n",
       "       [1.96100000e+03, 4.46564730e+08],\n",
       "       [1.96200000e+03, 4.57283092e+08],\n",
       "       [1.96300000e+03, 4.68138576e+08],\n",
       "       [1.96400000e+03, 4.79229599e+08],\n",
       "       [1.96500000e+03, 4.90140141e+08],\n",
       "       [1.96600000e+03, 5.00740250e+08],\n",
       "       [1.96700000e+03, 5.11606375e+08],\n",
       "       [1.96800000e+03, 5.22716894e+08],\n",
       "       [1.96900000e+03, 5.33880544e+08],\n",
       "       [1.97000000e+03, 5.45864268e+08],\n",
       "       [1.97100000e+03, 5.58096383e+08],\n",
       "       [1.97200000e+03, 5.70482142e+08],\n",
       "       [1.97300000e+03, 5.83465595e+08],\n",
       "       [1.97400000e+03, 5.97041392e+08],\n",
       "       [1.97500000e+03, 6.11309532e+08],\n",
       "       [1.97600000e+03, 6.25861887e+08],\n",
       "       [1.97700000e+03, 6.40801105e+08],\n",
       "       [1.97800000e+03, 6.55728226e+08],\n",
       "       [1.97900000e+03, 6.71155745e+08],\n",
       "       [1.98000000e+03, 6.87354031e+08],\n",
       "       [1.98100000e+03, 7.03696255e+08],\n",
       "       [1.98200000e+03, 7.20313474e+08],\n",
       "       [1.98300000e+03, 7.37372685e+08],\n",
       "       [1.98400000e+03, 7.54875451e+08],\n",
       "       [1.98500000e+03, 7.72647801e+08],\n",
       "       [1.98600000e+03, 7.90689978e+08],\n",
       "       [1.98700000e+03, 8.08931261e+08],\n",
       "       [1.98800000e+03, 8.27342997e+08],\n",
       "       [1.98900000e+03, 8.46039530e+08],\n",
       "       [1.99000000e+03, 8.64972219e+08],\n",
       "       [1.99100000e+03, 8.83927607e+08],\n",
       "       [1.99200000e+03, 9.02957072e+08],\n",
       "       [1.99300000e+03, 9.22118380e+08],\n",
       "       [1.99400000e+03, 9.41163775e+08],\n",
       "       [1.99500000e+03, 9.60301048e+08],\n",
       "       [1.99600000e+03, 9.79678464e+08],\n",
       "       [1.99700000e+03, 9.99133765e+08],\n",
       "       [1.99800000e+03, 1.01866507e+09],\n",
       "       [1.99900000e+03, 1.03822582e+09],\n",
       "       [2.00000000e+03, 1.05792273e+09],\n",
       "       [2.00100000e+03, 1.07789857e+09],\n",
       "       [2.00200000e+03, 1.09760038e+09],\n",
       "       [2.00300000e+03, 1.11680300e+09],\n",
       "       [2.00400000e+03, 1.13599151e+09],\n",
       "       [2.00500000e+03, 1.15467632e+09],\n",
       "       [2.00600000e+03, 1.17287889e+09],\n",
       "       [2.00700000e+03, 1.19067603e+09],\n",
       "       [2.00800000e+03, 1.20793096e+09],\n",
       "       [2.00900000e+03, 1.22552476e+09],\n",
       "       [2.01000000e+03, 1.24348156e+09],\n",
       "       [2.01100000e+03, 1.26122495e+09],\n",
       "       [2.01200000e+03, 1.27867451e+09],\n",
       "       [2.01300000e+03, 1.29582951e+09],\n",
       "       [2.01400000e+03, 1.31227718e+09],\n",
       "       [2.01500000e+03, 1.32802449e+09],\n",
       "       [2.01600000e+03, 1.34394429e+09],\n",
       "       [2.01700000e+03, 1.35965739e+09],\n",
       "       [2.01800000e+03, 1.37465907e+09],\n",
       "       [2.01900000e+03, 1.38903030e+09],\n",
       "       [2.02000000e+03, 1.40261769e+09],\n",
       "       [2.02100000e+03, 1.41420389e+09],\n",
       "       [2.02200000e+03, 1.42542321e+09],\n",
       "       [2.02300000e+03, 1.43806960e+09]])"
      ]
     },
     "execution_count": 33,
     "metadata": {},
     "output_type": "execute_result"
    }
   ],
   "execution_count": 33
  },
  {
   "cell_type": "markdown",
   "metadata": {},
   "source": "the usecols parameter is used to specify which columns to read from the file. The skiprows parameter is used to skip the first row of the file. The delimiter parameter is used to specify the character that separates the columns in the file."
  },
  {
   "metadata": {
    "ExecuteTime": {
     "end_time": "2024-11-06T04:44:00.410088Z",
     "start_time": "2024-11-06T04:44:00.406380Z"
    }
   },
   "cell_type": "code",
   "source": "# Is the output what you expected?\n",
   "outputs": [],
   "execution_count": 34
  },
  {
   "cell_type": "markdown",
   "metadata": {},
   "source": [
    "How many dimensions does the NumPy array have?\n",
    "What is the first dimension data representing? \n",
    "We need to separate these two dimensions by *unpacking* the data into two variables."
   ]
  },
  {
   "metadata": {
    "ExecuteTime": {
     "end_time": "2024-11-06T04:44:00.453636Z",
     "start_time": "2024-11-06T04:44:00.450411Z"
    }
   },
   "cell_type": "code",
   "source": [
    "# unpack the data into two variables and two single arrays called 'years' and 'pops`\n",
    "years, pops = np.loadtxt(\"india_population.csv\", usecols = (0,1), unpack = True, skiprows = 1, delimiter = ',')"
   ],
   "outputs": [],
   "execution_count": 35
  },
  {
   "metadata": {
    "ExecuteTime": {
     "end_time": "2024-11-06T04:44:00.531431Z",
     "start_time": "2024-11-06T04:44:00.527131Z"
    }
   },
   "cell_type": "code",
   "source": [
    "# Print 'years' and 'pops'. Is the output any better?\n",
    "print(years, pops)"
   ],
   "outputs": [
    {
     "name": "stdout",
     "output_type": "stream",
     "text": [
      "[1950. 1951. 1952. 1953. 1954. 1955. 1956. 1957. 1958. 1959. 1960. 1961.\n",
      " 1962. 1963. 1964. 1965. 1966. 1967. 1968. 1969. 1970. 1971. 1972. 1973.\n",
      " 1974. 1975. 1976. 1977. 1978. 1979. 1980. 1981. 1982. 1983. 1984. 1985.\n",
      " 1986. 1987. 1988. 1989. 1990. 1991. 1992. 1993. 1994. 1995. 1996. 1997.\n",
      " 1998. 1999. 2000. 2001. 2002. 2003. 2004. 2005. 2006. 2007. 2008. 2009.\n",
      " 2010. 2011. 2012. 2013. 2014. 2015. 2016. 2017. 2018. 2019. 2020. 2021.\n",
      " 2022. 2023.] [3.46278817e+08 3.53870058e+08 3.61874904e+08 3.70104571e+08\n",
      " 3.78687141e+08 3.87700891e+08 3.96988906e+08 4.06253895e+08\n",
      " 4.15777437e+08 4.25780669e+08 4.35990344e+08 4.46564730e+08\n",
      " 4.57283092e+08 4.68138576e+08 4.79229599e+08 4.90140141e+08\n",
      " 5.00740250e+08 5.11606375e+08 5.22716894e+08 5.33880544e+08\n",
      " 5.45864268e+08 5.58096383e+08 5.70482142e+08 5.83465595e+08\n",
      " 5.97041392e+08 6.11309532e+08 6.25861887e+08 6.40801105e+08\n",
      " 6.55728226e+08 6.71155745e+08 6.87354031e+08 7.03696255e+08\n",
      " 7.20313474e+08 7.37372685e+08 7.54875451e+08 7.72647801e+08\n",
      " 7.90689978e+08 8.08931261e+08 8.27342997e+08 8.46039530e+08\n",
      " 8.64972219e+08 8.83927607e+08 9.02957072e+08 9.22118380e+08\n",
      " 9.41163775e+08 9.60301048e+08 9.79678464e+08 9.99133765e+08\n",
      " 1.01866507e+09 1.03822582e+09 1.05792273e+09 1.07789857e+09\n",
      " 1.09760038e+09 1.11680300e+09 1.13599151e+09 1.15467632e+09\n",
      " 1.17287889e+09 1.19067603e+09 1.20793096e+09 1.22552476e+09\n",
      " 1.24348156e+09 1.26122495e+09 1.27867451e+09 1.29582951e+09\n",
      " 1.31227718e+09 1.32802449e+09 1.34394429e+09 1.35965739e+09\n",
      " 1.37465907e+09 1.38903030e+09 1.40261769e+09 1.41420389e+09\n",
      " 1.42542321e+09 1.43806960e+09]\n"
     ]
    }
   ],
   "execution_count": 36
  },
  {
   "metadata": {},
   "cell_type": "raw",
   "source": ""
  },
  {
   "cell_type": "markdown",
   "metadata": {},
   "source": [
    "### Representing the data visually\n",
    "\n",
    "&#9999;&nbsp; Data will often need to be represented visually versus simply in two columns. In the space below, plot the years on the x-axis and the population on the y-axis."
   ]
  },
  {
   "metadata": {
    "ExecuteTime": {
     "end_time": "2024-11-06T04:44:00.585353Z",
     "start_time": "2024-11-06T04:44:00.572806Z"
    }
   },
   "cell_type": "code",
   "source": [
    "# Type your code here. Remember your labels and title.\n",
    "import matplotlib.pyplot as plt\n"
   ],
   "outputs": [],
   "execution_count": 37
  },
  {
   "metadata": {},
   "cell_type": "raw",
   "source": "Import another country and plot the two countries on the same graph to compare. Remember to label your axis and create a legend."
  },
  {
   "metadata": {
    "ExecuteTime": {
     "end_time": "2024-11-06T04:44:00.714509Z",
     "start_time": "2024-11-06T04:44:00.615271Z"
    }
   },
   "cell_type": "code",
   "source": [
    "# Type your code here\n",
    "%matplotlib inline\n",
    "\n",
    "china_years, china_pops = np.loadtxt(\"china_population.csv\", usecols = (0,1), unpack = True, skiprows = 1, delimiter = ',')\n",
    "plt.plot(years, pops, label = 'India')\n",
    "plt.plot(china_years, china_pops, label = 'China')\n",
    "plt.xlabel('Years')\n",
    "plt.ylabel('Population')\n",
    "plt.title('Population Growth in India and China')\n",
    "plt.legend()"
   ],
   "outputs": [
    {
     "data": {
      "text/plain": [
       "<matplotlib.legend.Legend at 0x1d3bcaf5070>"
      ]
     },
     "execution_count": 38,
     "metadata": {},
     "output_type": "execute_result"
    }
   ],
   "execution_count": 38
  },
  {
   "metadata": {},
   "cell_type": "markdown",
   "source": [
    "What does the graph tell you about the population of the two countries?\n",
    "\n",
    "The graph shows that the population of China is much larger than the population of India. The population of China has been increasing steadily over the years, while the population of India has been increasing at a slower rate."
   ]
  },
  {
   "metadata": {},
   "cell_type": "raw",
   "source": "Using the same two countries, make a scatter plot comparing India on the x-axis and the other country on the y-axis."
  },
  {
   "metadata": {
    "ExecuteTime": {
     "end_time": "2024-11-06T04:44:00.838203Z",
     "start_time": "2024-11-06T04:44:00.733132Z"
    }
   },
   "cell_type": "code",
   "source": [
    "# Write your code here\n",
    "%matplotlib inline\n",
    "\n",
    "plt.scatter(pops, china_pops)\n",
    "plt.xlabel('India')\n",
    "plt.ylabel('China')\n",
    "plt.title('Population Growth in India and China')\n"
   ],
   "outputs": [
    {
     "data": {
      "text/plain": [
       "Text(0.5, 1.0, 'Population Growth in India and China')"
      ]
     },
     "execution_count": 39,
     "metadata": {},
     "output_type": "execute_result"
    }
   ],
   "execution_count": 39
  },
  {
   "metadata": {},
   "cell_type": "raw",
   "source": "What does the above scatter plot tell you about the population growth in the two countries? Is a scatter plot the best way to represent this information? Why or why not?"
  },
  {
   "cell_type": "markdown",
   "metadata": {},
   "source": "The scatter plot shows that the population of China is much larger than the population of India. The scatter plot is not the best way to represent this information because the data is not continuous and the points are not connected."
  },
  {
   "cell_type": "markdown",
   "metadata": {},
   "source": [
    "### Time permitting:\n",
    "Import a third country and graph all three countries population growth over time in two different ways.\n",
    "1. Plot all three countries on one graph.\n",
    "2. Plot all three countries so that each one is on a different graph but on the same diagram."
   ]
  },
  {
   "metadata": {
    "ExecuteTime": {
     "end_time": "2024-11-06T04:44:00.959777Z",
     "start_time": "2024-11-06T04:44:00.845097Z"
    }
   },
   "cell_type": "code",
   "source": [
    "# Type your code here\n",
    "%matplotlib inline\n",
    "\n",
    "skorea_years, skorea_pops = np.loadtxt(\"skorea_population.csv\", usecols = (0,1), unpack = True, skiprows = 1, delimiter = ',')\n",
    "plt.plot(years, pops, label = 'India')\n",
    "plt.plot(china_years, china_pops, label = 'China')\n",
    "plt.plot(skorea_years, skorea_pops, label = 'South Korea')\n",
    "plt.xlabel('Years')\n",
    "plt.ylabel('Population')\n",
    "plt.title('Population Growth in India, China, and USA')\n",
    "plt.legend()"
   ],
   "outputs": [
    {
     "data": {
      "text/plain": [
       "<matplotlib.legend.Legend at 0x1d3bd4872c0>"
      ]
     },
     "execution_count": 40,
     "metadata": {},
     "output_type": "execute_result"
    }
   ],
   "execution_count": 40
  },
  {
   "cell_type": "markdown",
   "metadata": {},
   "source": [
    "## In the cell below, write your key learnings of the day."
   ]
  },
  {
   "metadata": {},
   "cell_type": "markdown",
   "source": "I learned how to read data from a file using NumPy and how to represent the data visually using Matplotlib. I also learned how to compare the population growth of different countries using line and scatter plots."
  }
 ],
 "metadata": {
  "kernelspec": {
   "display_name": "Python 3 (ipykernel)",
   "language": "python",
   "name": "python3"
  },
  "language_info": {
   "codemirror_mode": {
    "name": "ipython",
    "version": 3
   },
   "file_extension": ".py",
   "mimetype": "text/x-python",
   "name": "python",
   "nbconvert_exporter": "python",
   "pygments_lexer": "ipython3",
   "version": "3.12.4"
  }
 },
 "nbformat": 4,
 "nbformat_minor": 4
}
