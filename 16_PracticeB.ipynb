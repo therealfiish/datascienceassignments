{
 "cells": [
  {
   "cell_type": "markdown",
   "metadata": {},
   "source": [
    "### <p style=\"text-align: right;\"> &#9999; Type your name here</p>"
   ]
  },
  {
   "cell_type": "markdown",
   "metadata": {},
   "source": [
    "## 16B arange and linspace ##\n",
    "\n",
    "Now that you have some of the basic concepts of an array, such as all elements need to be the same type and that they have dimensions (remember, from the error code discussion).\n",
    "\n",
    "Let's explore how to create arrays. There are two methods that we will be using first. \n",
    "- `linspace`\n",
    "- `arange`\n",
    "\n",
    "Look up the difference in numpy.linspace and numpy.arange. It might help you to look up sample code in each.\n",
    "\n",
    "Describe what you find here: \n",
    "&#9999;\n",
    "\n"
   ]
  },
  {
   "cell_type": "code",
   "metadata": {
    "ExecuteTime": {
     "end_time": "2024-10-22T14:01:15.559393Z",
     "start_time": "2024-10-22T14:01:15.556513Z"
    }
   },
   "source": [
    "# comparing arange to linspace\n",
    "import numpy as np\n",
    "\n",
    "arr1 = np.arange(1,10,2)\n",
    "arr2 = np.linspace(7,10,10)\n",
    "\n",
    "print(arr1,arr2)\n"
   ],
   "outputs": [
    {
     "name": "stdout",
     "output_type": "stream",
     "text": [
      "[1 3 5 7 9] [ 7.          7.33333333  7.66666667  8.          8.33333333  8.66666667\n",
      "  9.          9.33333333  9.66666667 10.        ]\n"
     ]
    }
   ],
   "execution_count": 7
  },
  {
   "cell_type": "raw",
   "metadata": {},
   "source": [
    "Copy the cell above in the cell below. Then, see if you can modify the 3rd term in each enough to figure out the difference between the two terms."
   ]
  },
  {
   "cell_type": "code",
   "metadata": {
    "ExecuteTime": {
     "end_time": "2024-10-22T14:07:44.372493Z",
     "start_time": "2024-10-22T14:07:44.366410Z"
    }
   },
   "source": [
    "# comparing arange to linspace\n",
    "import numpy as np\n",
    "\n",
    "arr1 = np.arange(1,10,2)\n",
    "arr2 = np.linspace(1,10,10)\n",
    "\n",
    "arr2[2] = arr2[3]-arr2[1]\n",
    "arr1[2] = arr1[3]-arr1[1]\n",
    "\n",
    "print(arr1,arr2)\n"
   ],
   "outputs": [
    {
     "name": "stdout",
     "output_type": "stream",
     "text": [
      "[1 3 4 7 9] [ 1.  2.  2.  4.  5.  6.  7.  8.  9. 10.]\n"
     ]
    }
   ],
   "execution_count": 12
  },
  {
   "cell_type": "markdown",
   "metadata": {},
   "source": [
    "Both `linspace` and `arange` take three arguments (the values in the parentheses (...)). \n",
    "Try to modify the arguments to determine what each of the three values mean in context. \n",
    "Provide some examples to support your conclusions. Remember to use np.arange and np.linspace in your examples. Use comments to explain what eaach argument represents."
   ]
  },
  {
   "cell_type": "markdown",
   "metadata": {},
   "source": [
    "&#9999;&nbsp; Write you examples and explanatory comments in the cell below."
   ]
  },
  {
   "cell_type": "code",
   "metadata": {
    "ExecuteTime": {
     "end_time": "2024-10-22T14:14:50.721998Z",
     "start_time": "2024-10-22T14:14:50.715856Z"
    }
   },
   "source": [
    "# Put your example 1 and comments here\n",
    "\n",
    "arr1 = np.arange(1,10,2) #control array\n",
    "print(arr1)\n",
    "arr2 = np.arange(1,10,3) #changing third arg to test\n",
    "print(arr2)\n",
    "# last argument is step value\n",
    "\n",
    "arr1 = np.arange(1,12,1) # control array\n",
    "print(arr1)\n",
    "arr2 = np.arange(1,14,1) # changing third argument to test\n",
    "print(arr2)\n",
    "# second arguemnt is the range of values that it goes to \n",
    "\n",
    "arr1 = np.arange(2,12,1) # control array\n",
    "print(arr1)\n",
    "arr2 = np.arange(4,12,1) # changing first argument to test\n",
    "print(arr2)\n",
    "# first argument defines where the array starts"
   ],
   "outputs": [
    {
     "name": "stdout",
     "output_type": "stream",
     "text": [
      "[1 3 5 7 9]\n",
      "[1 4 7]\n",
      "[ 1  2  3  4  5  6  7  8  9 10 11]\n",
      "[ 1  2  3  4  5  6  7  8  9 10 11 12 13]\n",
      "[ 2  3  4  5  6  7  8  9 10 11]\n",
      "[ 4  5  6  7  8  9 10 11]\n"
     ]
    }
   ],
   "execution_count": 19
  },
  {
   "cell_type": "code",
   "metadata": {
    "ExecuteTime": {
     "end_time": "2024-10-22T14:16:10.937501Z",
     "start_time": "2024-10-22T14:16:10.934544Z"
    }
   },
   "source": [
    "# Put your example 2 and comments here\n",
    "a1 = np.linspace(1,10,12) # control array\n",
    "print(a1)\n",
    "a2 = np.linspace(2,10,12) # changing first argument to test\n",
    "print(a2)"
   ],
   "outputs": [
    {
     "name": "stdout",
     "output_type": "stream",
     "text": [
      "[ 1.          1.81818182  2.63636364  3.45454545  4.27272727  5.09090909\n",
      "  5.90909091  6.72727273  7.54545455  8.36363636  9.18181818 10.        ]\n",
      "[ 2.          2.72727273  3.45454545  4.18181818  4.90909091  5.63636364\n",
      "  6.36363636  7.09090909  7.81818182  8.54545455  9.27272727 10.        ]\n"
     ]
    }
   ],
   "execution_count": 25
  },
  {
   "cell_type": "raw",
   "metadata": {},
   "source": [
    "What about negative steps or numbers. Do either linspace or arange behave differently? Try some examples below and comment on what you determine."
   ]
  },
  {
   "cell_type": "code",
   "execution_count": null,
   "metadata": {},
   "outputs": [],
   "source": [
    "# type your code here\n"
   ]
  },
  {
   "cell_type": "code",
   "execution_count": null,
   "metadata": {},
   "outputs": [],
   "source": [
    "# let's reverse the order for arange\n"
   ]
  },
  {
   "cell_type": "raw",
   "metadata": {},
   "source": [
    "What about if we only enter two values into arange and linspace? \n",
    "Try different values to try and determine what the default values for each are."
   ]
  },
  {
   "cell_type": "code",
   "execution_count": null,
   "metadata": {},
   "outputs": [],
   "source": [
    "# Type your code here. Remember to comment in your observations.\n"
   ]
  },
  {
   "cell_type": "raw",
   "metadata": {},
   "source": [
    "What did you determine about the defaults for arange and linspace? Enter your answer in the cell below."
   ]
  },
  {
   "cell_type": "markdown",
   "metadata": {},
   "source": [
    "&#9999;&nbsp; "
   ]
  },
  {
   "cell_type": "raw",
   "metadata": {},
   "source": [
    "What if you enter just 1 value? See if you can figure out which one(s) is(are) required?\n",
    "Again, remember to type in both your code and your comments."
   ]
  },
  {
   "cell_type": "code",
   "metadata": {
    "ExecuteTime": {
     "end_time": "2024-10-22T14:23:14.993382Z",
     "start_time": "2024-10-22T14:23:14.782480Z"
    }
   },
   "source": [
    "# type in your code here\n",
    "\n",
    "a1 = np.arange(300)\n",
    "print(a1)\n",
    "a2 = np.linspace(20)\n",
    "print(a2)\n",
    "#linspace needs more than one argument, but arange doesnt. arange takes the one argumenet as the range."
   ],
   "outputs": [
    {
     "name": "stdout",
     "output_type": "stream",
     "text": [
      "[  0   1   2   3   4   5   6   7   8   9  10  11  12  13  14  15  16  17\n",
      "  18  19  20  21  22  23  24  25  26  27  28  29  30  31  32  33  34  35\n",
      "  36  37  38  39  40  41  42  43  44  45  46  47  48  49  50  51  52  53\n",
      "  54  55  56  57  58  59  60  61  62  63  64  65  66  67  68  69  70  71\n",
      "  72  73  74  75  76  77  78  79  80  81  82  83  84  85  86  87  88  89\n",
      "  90  91  92  93  94  95  96  97  98  99 100 101 102 103 104 105 106 107\n",
      " 108 109 110 111 112 113 114 115 116 117 118 119 120 121 122 123 124 125\n",
      " 126 127 128 129 130 131 132 133 134 135 136 137 138 139 140 141 142 143\n",
      " 144 145 146 147 148 149 150 151 152 153 154 155 156 157 158 159 160 161\n",
      " 162 163 164 165 166 167 168 169 170 171 172 173 174 175 176 177 178 179\n",
      " 180 181 182 183 184 185 186 187 188 189 190 191 192 193 194 195 196 197\n",
      " 198 199 200 201 202 203 204 205 206 207 208 209 210 211 212 213 214 215\n",
      " 216 217 218 219 220 221 222 223 224 225 226 227 228 229 230 231 232 233\n",
      " 234 235 236 237 238 239 240 241 242 243 244 245 246 247 248 249 250 251\n",
      " 252 253 254 255 256 257 258 259 260 261 262 263 264 265 266 267 268 269\n",
      " 270 271 272 273 274 275 276 277 278 279 280 281 282 283 284 285 286 287\n",
      " 288 289 290 291 292 293 294 295 296 297 298 299]\n"
     ]
    },
    {
     "ename": "TypeError",
     "evalue": "linspace() missing 1 required positional argument: 'stop'",
     "output_type": "error",
     "traceback": [
      "\u001B[0;31m---------------------------------------------------------------------------\u001B[0m",
      "\u001B[0;31mTypeError\u001B[0m                                 Traceback (most recent call last)",
      "Cell \u001B[0;32mIn[28], line 5\u001B[0m\n\u001B[1;32m      3\u001B[0m a1 \u001B[38;5;241m=\u001B[39m np\u001B[38;5;241m.\u001B[39marange(\u001B[38;5;241m300\u001B[39m)\n\u001B[1;32m      4\u001B[0m \u001B[38;5;28mprint\u001B[39m(a1)\n\u001B[0;32m----> 5\u001B[0m a2 \u001B[38;5;241m=\u001B[39m np\u001B[38;5;241m.\u001B[39mlinspace(\u001B[38;5;241m20\u001B[39m)\n\u001B[1;32m      6\u001B[0m \u001B[38;5;28mprint\u001B[39m(a2)\n",
      "\u001B[0;31mTypeError\u001B[0m: linspace() missing 1 required positional argument: 'stop'"
     ]
    }
   ],
   "execution_count": 28
  },
  {
   "cell_type": "raw",
   "metadata": {},
   "source": [
    "What did you determine now regarding what the minimum entry requirements are and what the default values are for the arange and linspace?\n",
    "Enter your answer in the cell below."
   ]
  },
  {
   "cell_type": "markdown",
   "metadata": {},
   "source": [
    "&#9999;&nbsp; "
   ]
  },
  {
   "cell_type": "raw",
   "metadata": {},
   "source": [
    "Give an example below of how your could use np.arange and only enter the 2nd and 3rd values."
   ]
  },
  {
   "cell_type": "code",
   "execution_count": null,
   "metadata": {},
   "outputs": [],
   "source": [
    "# Type your code here.\n"
   ]
  },
  {
   "cell_type": "markdown",
   "metadata": {},
   "source": [
    "Both np.linspace and np.arange are best suited for specific situations. Based on what you understand of these two commands, when do you think you would use one over the other? Answer it is the cell below."
   ]
  },
  {
   "cell_type": "markdown",
   "metadata": {},
   "source": [
    "&#9999;&nbsp;\n",
    "\n"
   ]
  }
 ],
 "metadata": {
  "kernelspec": {
   "display_name": "Python 3 (ipykernel)",
   "language": "python",
   "name": "python3"
  },
  "language_info": {
   "codemirror_mode": {
    "name": "ipython",
    "version": 3
   },
   "file_extension": ".py",
   "mimetype": "text/x-python",
   "name": "python",
   "nbconvert_exporter": "python",
   "pygments_lexer": "ipython3",
   "version": "3.12.4"
  }
 },
 "nbformat": 4,
 "nbformat_minor": 4
}
