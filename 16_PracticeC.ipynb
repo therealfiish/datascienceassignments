{
 "cells": [
  {
   "cell_type": "markdown",
   "metadata": {},
   "source": [
    "### <p style=\"text-align: right;\"> &#9999; Type your name here</p>"
   ]
  },
  {
   "cell_type": "markdown",
   "metadata": {},
   "source": [
    "#### 16C: Array operations\n",
    "\n",
    "Remember that you **cannot** have mixed types inside of the array. What do you think will happen if we try and mix types?"
   ]
  },
  {
   "cell_type": "code",
   "metadata": {
    "ExecuteTime": {
     "end_time": "2024-10-24T14:14:08.406819Z",
     "start_time": "2024-10-24T14:14:08.402714Z"
    }
   },
   "source": [
    "# Start with a mixed list and convert it to an array\n",
    "import numpy as np\n",
    "a1 = [\"yeah\", True, 7]\n",
    "a2 = np.array(a1)\n",
    "print(a2)"
   ],
   "outputs": [
    {
     "name": "stdout",
     "output_type": "stream",
     "text": [
      "['yeah' 'True' '7']\n"
     ]
    }
   ],
   "execution_count": 35
  },
  {
   "cell_type": "markdown",
   "metadata": {},
   "source": [
    "What are the types of the elements in the new array? Are they the same as the original list? Are they all the same as each other?\n",
    "Let's check."
   ]
  },
  {
   "cell_type": "code",
   "metadata": {
    "ExecuteTime": {
     "end_time": "2024-10-24T14:14:08.435077Z",
     "start_time": "2024-10-24T14:14:08.431944Z"
    }
   },
   "source": [
    "# Determine the type of elements in the array.\n",
    "type(a2[0])"
   ],
   "outputs": [
    {
     "data": {
      "text/plain": [
       "numpy.str_"
      ]
     },
     "execution_count": 36,
     "metadata": {},
     "output_type": "execute_result"
    }
   ],
   "execution_count": 36
  },
  {
   "cell_type": "raw",
   "metadata": {},
   "source": "Why do you think the types are what they are?\n"
  },
  {
   "cell_type": "code",
   "metadata": {
    "ExecuteTime": {
     "end_time": "2024-10-24T14:14:08.452587Z",
     "start_time": "2024-10-24T14:14:08.450531Z"
    }
   },
   "source": [
    "# What happens if we convert a list with no strings, just integers and floats?\n",
    "print(np.array([2, 1.23,34.342342]))"
   ],
   "outputs": [
    {
     "name": "stdout",
     "output_type": "stream",
     "text": [
      "[ 2.        1.23     34.342342]\n"
     ]
    }
   ],
   "execution_count": 37
  },
  {
   "cell_type": "code",
   "metadata": {
    "ExecuteTime": {
     "end_time": "2024-10-24T14:14:08.528519Z",
     "start_time": "2024-10-24T14:14:08.525313Z"
    }
   },
   "source": [
    "# Determine the type of elements in this new array.\n",
    "a2 = np.array([2, 1.23,34.342342])\n",
    "type(a2[0])"
   ],
   "outputs": [
    {
     "data": {
      "text/plain": [
       "numpy.float64"
      ]
     },
     "execution_count": 38,
     "metadata": {},
     "output_type": "execute_result"
    }
   ],
   "execution_count": 38
  },
  {
   "cell_type": "raw",
   "metadata": {},
   "source": [
    "What is the difference in how NumPy converted the values?\n",
    "\n",
    "If string is in the list, it makes everything else a string in the array.\n",
    "If float is in the list, it makes everything else a float in the array."
   ]
  },
  {
   "cell_type": "markdown",
   "metadata": {},
   "source": [
    "Practice mathematical operations on both lists and arrays. \n",
    "- Use append to make a list that contains numbers $5$ through $15$\n",
    "- Create a one dimensional array in Numpy that contains the numbers $5$ through $15$\n",
    "- Store both the list and the array using variable names that make sense.\n",
    "- Multiply both the list and the array by $5$.\n",
    "- `print` the result for both.\n",
    "- Insert a *new markdown* cell below your work and describe the differences between the two results. "
   ]
  },
  {
   "cell_type": "code",
   "metadata": {
    "ExecuteTime": {
     "end_time": "2024-10-24T14:15:49.126775Z",
     "start_time": "2024-10-24T14:15:49.122111Z"
    }
   },
   "source": [
    "# Type your code here\n",
    "\n",
    "lisT = []\n",
    "for i in range(5,16):\n",
    "    lisT.append(i)\n",
    "\n",
    "arraY = np.arange(5,16)\n",
    "\n",
    "arraY *= 5\n",
    "lisT *= 5\n",
    "print(arraY)\n",
    "print(\"\\n\")\n",
    "print(lisT)\n",
    "# Remember to insert a new markdown cell below (see above)"
   ],
   "outputs": [
    {
     "name": "stdout",
     "output_type": "stream",
     "text": [
      "[25 30 35 40 45 50 55 60 65 70 75]\n",
      "\n",
      "\n",
      "[5, 6, 7, 8, 9, 10, 11, 12, 13, 14, 15, 5, 6, 7, 8, 9, 10, 11, 12, 13, 14, 15, 5, 6, 7, 8, 9, 10, 11, 12, 13, 14, 15, 5, 6, 7, 8, 9, 10, 11, 12, 13, 14, 15, 5, 6, 7, 8, 9, 10, 11, 12, 13, 14, 15]\n"
     ]
    }
   ],
   "execution_count": 52
  },
  {
   "metadata": {},
   "cell_type": "markdown",
   "source": "While multiplying the array by 5 multiplies every element in the array by 5, the original list itself is multiplied 5 times."
  },
  {
   "cell_type": "markdown",
   "metadata": {},
   "source": [
    "#### The math libraries and arrays\n",
    "\n",
    "Python math libraries work very well with the NumPy arrays. Let's combine the work on sine and cosine functions from last week with some of the newer material about arrays.\n",
    "\n",
    "In the cell below, add comments to explain what each line of code."
   ]
  },
  {
   "cell_type": "code",
   "metadata": {
    "scrolled": true,
    "ExecuteTime": {
     "end_time": "2024-10-24T14:14:08.621225Z",
     "start_time": "2024-10-24T14:14:08.618684Z"
    }
   },
   "source": [
    "# This code cell uses four NumPy methods:\n",
    "# linspace, pi, sin and cos\n",
    "plot_points = np.linspace(0, 2*np.pi, 200) \n",
    "trig_points = np.sin(plot_points) * np.cos(plot_points)\n",
    "                                                            \n",
    "print(trig_points)\n",
    "# if you get an error code, think what modules need to be imported above."
   ],
   "outputs": [
    {
     "name": "stdout",
     "output_type": "stream",
     "text": [
      "[ 0.00000000e+00  3.15528157e-02  6.29798525e-02  9.41558332e-02\n",
      "  1.24956481e-01  1.55259016e-01  1.84942643e-01  2.13889034e-01\n",
      "  2.41982801e-01  2.69111953e-01  2.95168346e-01  3.20048111e-01\n",
      "  3.43652071e-01  3.65886133e-01  3.86661666e-01  4.05895851e-01\n",
      "  4.23512017e-01  4.39439939e-01  4.53616125e-01  4.65984065e-01\n",
      "  4.76494455e-01  4.85105398e-01  4.91782569e-01  4.96499350e-01\n",
      "  4.99236939e-01  4.99984423e-01  4.98738823e-01  4.95505104e-01\n",
      "  4.90296156e-01  4.83132743e-01  4.74043422e-01  4.63064424e-01\n",
      "  4.50239516e-01  4.35619821e-01  4.19263618e-01  4.01236107e-01\n",
      "  3.81609151e-01  3.60460989e-01  3.37875924e-01  3.13943987e-01\n",
      "  2.88760576e-01  2.62426081e-01  2.35045479e-01  2.06727917e-01\n",
      "  1.77586276e-01  1.47736725e-01  1.17298251e-01  8.63921927e-02\n",
      "  5.51417495e-02  2.36714950e-02 -7.89312101e-03 -3.94262727e-02\n",
      " -7.08022597e-02 -1.01896008e-01 -1.32583569e-01 -1.62742613e-01\n",
      " -1.92252918e-01 -2.20996845e-01 -2.48859815e-01 -2.75730756e-01\n",
      " -3.01502554e-01 -3.26072474e-01 -3.49342573e-01 -3.71220090e-01\n",
      " -3.91617816e-01 -4.10454438e-01 -4.27654868e-01 -4.43150540e-01\n",
      " -4.56879684e-01 -4.68787572e-01 -4.78826735e-01 -4.86957154e-01\n",
      " -4.93146419e-01 -4.97369858e-01 -4.99610635e-01 -4.99859817e-01\n",
      " -4.98116411e-01 -4.94387367e-01 -4.88687550e-01 -4.81039682e-01\n",
      " -4.71474247e-01 -4.60029379e-01 -4.46750698e-01 -4.31691138e-01\n",
      " -4.14910730e-01 -3.96476367e-01 -3.76461532e-01 -3.54946011e-01\n",
      " -3.32015572e-01 -3.07761620e-01 -2.82280841e-01 -2.55674808e-01\n",
      " -2.28049580e-01 -1.99515279e-01 -1.70185652e-01 -1.40177615e-01\n",
      " -1.09610788e-01 -7.86070215e-02 -4.72899039e-02 -1.57842749e-02\n",
      "  1.57842749e-02  4.72899039e-02  7.86070215e-02  1.09610788e-01\n",
      "  1.40177615e-01  1.70185652e-01  1.99515279e-01  2.28049580e-01\n",
      "  2.55674808e-01  2.82280841e-01  3.07761620e-01  3.32015572e-01\n",
      "  3.54946011e-01  3.76461532e-01  3.96476367e-01  4.14910730e-01\n",
      "  4.31691138e-01  4.46750698e-01  4.60029379e-01  4.71474247e-01\n",
      "  4.81039682e-01  4.88687550e-01  4.94387367e-01  4.98116411e-01\n",
      "  4.99859817e-01  4.99610635e-01  4.97369858e-01  4.93146419e-01\n",
      "  4.86957154e-01  4.78826735e-01  4.68787572e-01  4.56879684e-01\n",
      "  4.43150540e-01  4.27654868e-01  4.10454438e-01  3.91617816e-01\n",
      "  3.71220090e-01  3.49342573e-01  3.26072474e-01  3.01502554e-01\n",
      "  2.75730756e-01  2.48859815e-01  2.20996845e-01  1.92252918e-01\n",
      "  1.62742613e-01  1.32583569e-01  1.01896008e-01  7.08022597e-02\n",
      "  3.94262727e-02  7.89312101e-03 -2.36714950e-02 -5.51417495e-02\n",
      " -8.63921927e-02 -1.17298251e-01 -1.47736725e-01 -1.77586276e-01\n",
      " -2.06727917e-01 -2.35045479e-01 -2.62426081e-01 -2.88760576e-01\n",
      " -3.13943987e-01 -3.37875924e-01 -3.60460989e-01 -3.81609151e-01\n",
      " -4.01236107e-01 -4.19263618e-01 -4.35619821e-01 -4.50239516e-01\n",
      " -4.63064424e-01 -4.74043422e-01 -4.83132743e-01 -4.90296156e-01\n",
      " -4.95505104e-01 -4.98738823e-01 -4.99984423e-01 -4.99236939e-01\n",
      " -4.96499350e-01 -4.91782569e-01 -4.85105398e-01 -4.76494455e-01\n",
      " -4.65984065e-01 -4.53616125e-01 -4.39439939e-01 -4.23512017e-01\n",
      " -4.05895851e-01 -3.86661666e-01 -3.65886133e-01 -3.43652071e-01\n",
      " -3.20048111e-01 -2.95168346e-01 -2.69111953e-01 -2.41982801e-01\n",
      " -2.13889034e-01 -1.84942643e-01 -1.55259016e-01 -1.24956481e-01\n",
      " -9.41558332e-02 -6.29798525e-02 -3.15528157e-02 -2.44929360e-16]\n"
     ]
    }
   ],
   "execution_count": 40
  },
  {
   "cell_type": "markdown",
   "metadata": {},
   "source": [
    "Are the results what you expected? Explain why or why not?"
   ]
  },
  {
   "cell_type": "markdown",
   "metadata": {},
   "source": [
    "&#9999;&nbsp; "
   ]
  },
  {
   "cell_type": "markdown",
   "metadata": {},
   "source": [
    "Now, let's combine this work with what we did in `matplotlib`.\n",
    "Graph both the plot_points and the trig_numbers."
   ]
  },
  {
   "cell_type": "code",
   "metadata": {
    "ExecuteTime": {
     "end_time": "2024-10-24T14:14:08.638383Z",
     "start_time": "2024-10-24T14:14:08.636800Z"
    }
   },
   "source": [
    "# Think about what should be the first thing you do.\n"
   ],
   "outputs": [],
   "execution_count": 41
  },
  {
   "cell_type": "markdown",
   "metadata": {},
   "source": [
    "Now, plot your `trig_points` array versus your original `plot_points` array. (x-axis of plot_points and y-axis of trig_points)"
   ]
  },
  {
   "cell_type": "code",
   "metadata": {
    "ExecuteTime": {
     "end_time": "2024-10-24T14:14:08.648470Z",
     "start_time": "2024-10-24T14:14:08.646832Z"
    }
   },
   "source": [
    "# Type your code here. How does this compare to your previous graph?\n"
   ],
   "outputs": [],
   "execution_count": 42
  },
  {
   "cell_type": "code",
   "metadata": {
    "scrolled": true,
    "ExecuteTime": {
     "end_time": "2024-10-24T14:14:08.658230Z",
     "start_time": "2024-10-24T14:14:08.655905Z"
    }
   },
   "source": [
    "# what if you reverse the order? Does it matter?\n",
    "# Make the new plot. How is it different?\n"
   ],
   "outputs": [],
   "execution_count": 43
  },
  {
   "cell_type": "markdown",
   "metadata": {},
   "source": [
    "___\n",
    "#### Representing statistics using NumPy\n"
   ]
  },
  {
   "cell_type": "markdown",
   "metadata": {},
   "source": [
    "A useful tool in NumPy is the random number generator. This may be used to test code or simply to generate a random list to work with.\n",
    "To generate a random list, first determine how many values you need and then complete the code as follows:\n",
    "`np.random.randn(number of values wanted)` "
   ]
  },
  {
   "cell_type": "raw",
   "metadata": {},
   "source": [
    "Generate a few random lists and determine what the default values are for the command."
   ]
  },
  {
   "cell_type": "code",
   "metadata": {
    "ExecuteTime": {
     "end_time": "2024-10-24T14:14:08.667681Z",
     "start_time": "2024-10-24T14:14:08.665440Z"
    }
   },
   "source": [
    "# Type your code here, add in comments about the defaults\n",
    "\n"
   ],
   "outputs": [],
   "execution_count": 44
  },
  {
   "cell_type": "raw",
   "metadata": {},
   "source": [
    "Now, let's use the random number generator to represent a typical normal curve in statistics. \n",
    "1. Create an array called \"normal_curve\" that is made up of 1000 random values generated by NumPy.\n",
    "2. Use MatPlotLib.PyPlot to plot the values in a histogram using plt.hist()"
   ]
  },
  {
   "cell_type": "code",
   "metadata": {
    "ExecuteTime": {
     "end_time": "2024-10-24T14:14:08.684291Z",
     "start_time": "2024-10-24T14:14:08.681736Z"
    }
   },
   "source": [
    "#Type your code here\n",
    "\n"
   ],
   "outputs": [],
   "execution_count": 45
  },
  {
   "cell_type": "markdown",
   "metadata": {},
   "source": [
    "Was the resulting graph above what you expected? Explain why or why not?"
   ]
  },
  {
   "cell_type": "markdown",
   "metadata": {},
   "source": [
    "&#9999;&nbsp; "
   ]
  },
  {
   "cell_type": "markdown",
   "metadata": {},
   "source": [
    "Use the same random values you just saved into the array, \"normal_curve\".\n",
    "Practice calculating some of the the other basic statistics values. Remember to start each with $np.$ since you are working in NumPy. Calculate the following values:\n",
    "- sum\n",
    "- mean\n",
    "- median\n",
    "- standard deviation\n"
   ]
  },
  {
   "cell_type": "code",
   "metadata": {
    "ExecuteTime": {
     "end_time": "2024-10-24T14:14:08.693416Z",
     "start_time": "2024-10-24T14:14:08.691476Z"
    }
   },
   "source": [
    "# Write your code here. Remember to print it so that it is an easy to understand sentence.\n",
    "\n",
    "\n"
   ],
   "outputs": [],
   "execution_count": 46
  },
  {
   "cell_type": "markdown",
   "metadata": {},
   "source": [
    "&#9999;"
   ]
  }
 ],
 "metadata": {
  "kernelspec": {
   "display_name": "Python 3 (ipykernel)",
   "language": "python",
   "name": "python3"
  },
  "language_info": {
   "codemirror_mode": {
    "name": "ipython",
    "version": 3
   },
   "file_extension": ".py",
   "mimetype": "text/x-python",
   "name": "python",
   "nbconvert_exporter": "python",
   "pygments_lexer": "ipython3",
   "version": "3.12.4"
  }
 },
 "nbformat": 4,
 "nbformat_minor": 4
}
